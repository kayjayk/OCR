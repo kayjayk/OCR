{
 "cells": [
  {
   "cell_type": "code",
   "execution_count": 6,
   "metadata": {},
   "outputs": [],
   "source": [
    "import ole"
   ]
  },
  {
   "cell_type": "code",
   "execution_count": 7,
   "metadata": {},
   "outputs": [],
   "source": [
    "path = '../Data/for_OCR/0. 당행 계약 관련 양식/0..hwp'"
   ]
  },
  {
   "cell_type": "code",
   "execution_count": 8,
   "metadata": {},
   "outputs": [
    {
     "name": "stdout",
     "output_type": "stream",
     "text": [
      "('FileHeader', 'DocInfo', '\\x05HwpSummaryInformation', 'PrvImage', 'PrvText', 'Scripts/JScriptVersion', 'Scripts/DefaultJScript', 'DocOptions/_LinkDoc', 'BodyText/Section0')\n",
      "========================================\n",
      "(    )감리용역 표준계약서\r\n",
      "\r\n",
      "계약번호 : 제     호\r\n",
      "<용역계약명><>\r\n",
      "<계약금액><금                        원정(￦                        )>\r\n",
      "<계약보증금><금                        원정(￦                        )><내  역 : 현금, 보증보험증권, 공제조합 지급보증서, 기타>\r\n",
      "<지체상금율><지체일수 1일에 대하여       / 1,000>\r\n",
      "<계약기간><계약체결일로부터             일(월)  이내>\r\n",
      "  \r\n",
      "  계약담당자와 계약상대자는 붙임의 계약서류에 의하여 위 감리용역에 대한 계약을 체결하고 신의에 따라 성실히 계약상의 의무를 이행할 것을 확약하며 이 계약의 증거로서 본 계약서를 작성하고 당사자가 기명날인한 후 각 1부씩 보관한다.\r\n",
      "\r\n",
      "붙임 서류 : 1. 감리용역지침서\r\n",
      "            2. 감리용역계약 일반조건\r\n",
      "            3. 감리용역계약 특수조건(필요시)\r\n",
      "\r\n",
      "    년    월    일\r\n",
      "\r\n",
      "계약담당자     주              소 :\r\n",
      "               성              명 :\r\n",
      "               법인(사업자)등록번호 :\r\n",
      "               전    화  /  F A X : \r\n",
      "\r\n",
      "계  약  자     주              소 :\r\n",
      "               성              명 :\r\n",
      "               법인(사업자)등록번호 :\r\n",
      "               전    화  /  F A X : \r\n",
      "\r\n",
      "\n"
     ]
    }
   ],
   "source": [
    "with ole.open(path) as f:\n",
    "    print(f.list_streams())\n",
    "    print('=' * 40)\n",
    "    print(f.get_stream('PrvText').read().decode('utf-16le'))"
   ]
  },
  {
   "cell_type": "code",
   "execution_count": null,
   "metadata": {},
   "outputs": [],
   "source": []
  }
 ],
 "metadata": {
  "kernelspec": {
   "display_name": "Python 3",
   "language": "python",
   "name": "python3"
  },
  "language_info": {
   "codemirror_mode": {
    "name": "ipython",
    "version": 3
   },
   "file_extension": ".py",
   "mimetype": "text/x-python",
   "name": "python",
   "nbconvert_exporter": "python",
   "pygments_lexer": "ipython3",
   "version": "3.6.9"
  }
 },
 "nbformat": 4,
 "nbformat_minor": 2
}
